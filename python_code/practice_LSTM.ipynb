{
 "cells": [
  {
   "cell_type": "code",
   "execution_count": 28,
   "metadata": {},
   "outputs": [],
   "source": [
    "# python\n",
    "# 출처: https://ebbnflow.tistory.com/135"
   ]
  },
  {
   "cell_type": "code",
   "execution_count": 2,
   "metadata": {},
   "outputs": [],
   "source": [
    "from numpy import array\n",
    "from keras.models import Sequential\n",
    "from keras.layers import Dense, LSTM"
   ]
  },
  {
   "cell_type": "code",
   "execution_count": 27,
   "metadata": {},
   "outputs": [
    {
     "name": "stdout",
     "output_type": "stream",
     "text": [
      "[[ 1  2  3]\n",
      " [ 2  3  4]\n",
      " [ 3  4  5]\n",
      " [ 4  5  6]\n",
      " [ 5  6  7]\n",
      " [ 6  7  8]\n",
      " [ 7  8  9]\n",
      " [ 8  9 10]\n",
      " [ 9 10 11]\n",
      " [10 11 12]\n",
      " [20 30 40]\n",
      " [30 40 50]\n",
      " [40 50 60]]\n",
      "\n",
      "\n",
      "[ 4  5  6  7  8  9 10 11 12 13 50 60 70]\n"
     ]
    }
   ],
   "source": [
    "x = array([[1,2,3], [2,3,4], [3,4,5], [4,5,6], [5,6,7], [6,7,8], [7,8,9], [8,9,10], [9,10,11], [10,11,12], [20,30,40], [30,40,50], [40,50,60]])\n",
    "y = array([4,5,6,7,8,9,10,11,12,13,50,60,70])\n",
    "\n",
    "print(x)\n",
    "print('\\n')\n",
    "print(y)"
   ]
  },
  {
   "cell_type": "code",
   "execution_count": 15,
   "metadata": {},
   "outputs": [
    {
     "name": "stdout",
     "output_type": "stream",
     "text": [
      "x.shape (13, 3)\n",
      "y.shape (13,)\n"
     ]
    }
   ],
   "source": [
    "print('x.shape', x.shape)\n",
    "print('y.shape', y.shape)"
   ]
  },
  {
   "cell_type": "code",
   "execution_count": 17,
   "metadata": {},
   "outputs": [
    {
     "name": "stdout",
     "output_type": "stream",
     "text": [
      "x.shape (13, 3, 1)\n"
     ]
    }
   ],
   "source": [
    "x = x.reshape(x.shape[0], x.shape[1], 1)\n",
    "print('x.shape', x.shape)"
   ]
  },
  {
   "cell_type": "code",
   "execution_count": 18,
   "metadata": {},
   "outputs": [
    {
     "name": "stdout",
     "output_type": "stream",
     "text": [
      "Model: \"sequential\"\n",
      "_________________________________________________________________\n",
      "Layer (type)                 Output Shape              Param #   \n",
      "=================================================================\n",
      "lstm (LSTM)                  (None, 3, 10)             480       \n",
      "_________________________________________________________________\n",
      "lstm_1 (LSTM)                (None, 3, 10)             840       \n",
      "_________________________________________________________________\n",
      "lstm_2 (LSTM)                (None, 3, 10)             840       \n",
      "_________________________________________________________________\n",
      "lstm_3 (LSTM)                (None, 3, 10)             840       \n",
      "_________________________________________________________________\n",
      "lstm_4 (LSTM)                (None, 3, 10)             840       \n",
      "_________________________________________________________________\n",
      "lstm_5 (LSTM)                (None, 3, 10)             840       \n",
      "_________________________________________________________________\n",
      "lstm_6 (LSTM)                (None, 3, 10)             840       \n",
      "_________________________________________________________________\n",
      "lstm_7 (LSTM)                (None, 3, 10)             840       \n",
      "_________________________________________________________________\n",
      "lstm_8 (LSTM)                (None, 3)                 168       \n",
      "_________________________________________________________________\n",
      "dense (Dense)                (None, 5)                 20        \n",
      "_________________________________________________________________\n",
      "dense_1 (Dense)              (None, 1)                 6         \n",
      "=================================================================\n",
      "Total params: 6,554\n",
      "Trainable params: 6,554\n",
      "Non-trainable params: 0\n",
      "_________________________________________________________________\n"
     ]
    }
   ],
   "source": [
    "model = Sequential()\n",
    "model.add(LSTM(10, activation = 'relu', input_shape = (3,1), return_sequences=True)) # 이전의 기록을 다음으로 넘기기 위해서 return_sequences=True로 받음\n",
    "model.add(LSTM(10, activation = 'relu', return_sequences=True))\n",
    "model.add(LSTM(10, activation = 'relu', return_sequences=True))\n",
    "model.add(LSTM(10, activation = 'relu', return_sequences=True))\n",
    "model.add(LSTM(10, activation = 'relu', return_sequences=True))\n",
    "model.add(LSTM(10, activation = 'relu', return_sequences=True))\n",
    "model.add(LSTM(10, activation = 'relu', return_sequences=True))\n",
    "model.add(LSTM(10, activation = 'relu', return_sequences=True))\n",
    "model.add(LSTM(3)) # 마지막 output 3개, return_sequences=False\n",
    "\n",
    "model.add(Dense(5))\n",
    "model.add(Dense(1))\n",
    "\n",
    "model.summary()"
   ]
  },
  {
   "cell_type": "code",
   "execution_count": 19,
   "metadata": {},
   "outputs": [],
   "source": [
    "model.compile(optimizer='adam', loss='mse')"
   ]
  },
  {
   "cell_type": "code",
   "execution_count": 22,
   "metadata": {},
   "outputs": [
    {
     "name": "stdout",
     "output_type": "stream",
     "text": [
      "7/7 - 0s - loss: 904.0180\n",
      "[[[ 1]\n",
      "  [ 2]\n",
      "  [ 3]]\n",
      "\n",
      " [[ 2]\n",
      "  [ 3]\n",
      "  [ 4]]\n",
      "\n",
      " [[ 3]\n",
      "  [ 4]\n",
      "  [ 5]]\n",
      "\n",
      " [[ 4]\n",
      "  [ 5]\n",
      "  [ 6]]\n",
      "\n",
      " [[ 5]\n",
      "  [ 6]\n",
      "  [ 7]]\n",
      "\n",
      " [[ 6]\n",
      "  [ 7]\n",
      "  [ 8]]\n",
      "\n",
      " [[ 7]\n",
      "  [ 8]\n",
      "  [ 9]]\n",
      "\n",
      " [[ 8]\n",
      "  [ 9]\n",
      "  [10]]\n",
      "\n",
      " [[ 9]\n",
      "  [10]\n",
      "  [11]]\n",
      "\n",
      " [[10]\n",
      "  [11]\n",
      "  [12]]\n",
      "\n",
      " [[20]\n",
      "  [30]\n",
      "  [40]]\n",
      "\n",
      " [[30]\n",
      "  [40]\n",
      "  [50]]\n",
      "\n",
      " [[40]\n",
      "  [50]\n",
      "  [60]]]\n"
     ]
    }
   ],
   "source": [
    "model.fit(x,y, epochs=1, batch_size=2, verbose=2)\n",
    "\n",
    "print(x)"
   ]
  },
  {
   "cell_type": "code",
   "execution_count": 24,
   "metadata": {},
   "outputs": [
    {
     "name": "stdout",
     "output_type": "stream",
     "text": [
      "[[0.12050679]]\n"
     ]
    }
   ],
   "source": [
    "x_input = array([25, 35, 45])\n",
    "x_input = x_input.reshape(1,3,1)\n",
    "\n",
    "y_hat = model.predict(x_input)\n",
    "print(y_hat)"
   ]
  }
 ],
 "metadata": {
  "kernelspec": {
   "display_name": "Python 3",
   "language": "python",
   "name": "python3"
  },
  "language_info": {
   "codemirror_mode": {
    "name": "ipython",
    "version": 3
   },
   "file_extension": ".py",
   "mimetype": "text/x-python",
   "name": "python",
   "nbconvert_exporter": "python",
   "pygments_lexer": "ipython3",
   "version": "3.7.6"
  }
 },
 "nbformat": 4,
 "nbformat_minor": 4
}
